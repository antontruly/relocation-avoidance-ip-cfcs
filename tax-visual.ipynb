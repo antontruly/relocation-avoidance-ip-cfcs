{
 "cells": [
  {
   "cell_type": "code",
   "execution_count": 1,
   "id": "be333adf",
   "metadata": {},
   "outputs": [],
   "source": [
    "import pandas as pd\n",
    "import matplotlib.pyplot as plt\n",
    "import seaborn as sns"
   ]
  },
  {
   "cell_type": "code",
   "execution_count": 2,
   "id": "2334382b",
   "metadata": {},
   "outputs": [],
   "source": [
    "sns.set(rc={\"figure.dpi\": 300, \"savefig.dpi\": 300})\n",
    "sns.set_context(\"notebook\")"
   ]
  },
  {
   "cell_type": "code",
   "execution_count": null,
   "id": "583259ef",
   "metadata": {},
   "outputs": [],
   "source": [
    "sns.set(rc={\"figure.figsize\": (9, 4)})\n",
    "sns.set_style(\"ticks\")\n",
    "plt.rcParams[\"font.family\"] = \"Times New Roman\""
   ]
  },
  {
   "cell_type": "code",
   "execution_count": null,
   "id": "0baab8e4",
   "metadata": {},
   "outputs": [],
   "source": [
    "tax_eu28_long = pd.read_csv(\n",
    "    \"tax_eu28_long.csv\",\n",
    "    index_col=False,\n",
    ")"
   ]
  },
  {
   "cell_type": "code",
   "execution_count": 4,
   "id": "6e91598e",
   "metadata": {},
   "outputs": [],
   "source": [
    "g = sns.stripplot(\n",
    "    x=\"iso_2\",\n",
    "    y=\"tax\",\n",
    "    hue=\"year\",\n",
    "    palette=sns.color_palette(\"magma\", 9),\n",
    "    data=tax_eu28_long,\n",
    ")\n",
    "g.xaxis.grid(True, linestyle=\"dashed\")\n",
    "g.set(xlabel=\"Country\", ylabel=\"Tax\")\n",
    "g.legend(loc=\"right\", bbox_to_anchor=(1.15, 0.5), ncol=1)\n",
    "plt.close()"
   ]
  }
 ],
 "metadata": {
  "kernelspec": {
   "display_name": "Python 3 (ipykernel)",
   "language": "python",
   "name": "python3"
  },
  "language_info": {
   "codemirror_mode": {
    "name": "ipython",
    "version": 3
   },
   "file_extension": ".py",
   "mimetype": "text/x-python",
   "name": "python",
   "nbconvert_exporter": "python",
   "pygments_lexer": "ipython3",
   "version": "3.9.6"
  }
 },
 "nbformat": 4,
 "nbformat_minor": 5
}
